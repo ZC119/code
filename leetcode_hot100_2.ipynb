{
 "cells": [
  {
   "cell_type": "markdown",
   "metadata": {},
   "source": [
    "## 394. 字符串解码（中等）栈 DFS\n",
    "\n",
    "给定一个经过编码的字符串，返回它解码后的字符串。\n",
    "\n",
    "编码规则为: k[encoded_string]，表示其中方括号内部的 encoded_string 正好重复 k 次。注意 k 保证为正整数。\n",
    "\n",
    "你可以认为输入字符串总是有效的；输入字符串中没有额外的空格，且输入的方括号总是符合格式要求的。\n",
    "\n",
    "此外，你可以认为原始数据不包含数字，所有的数字只表示重复的次数 k ，例如不会出现像 3a 或 2[4] 的输入。\n",
    "\n",
    "示例\n",
    "> s = \"3[a]2[bc]\", 返回 \"aaabcbc\".  \n",
    "s = \"3[a2[c]]\", 返回 \"accaccacc\".  \n",
    "s = \"2[abc]3[cd]ef\", 返回 \"abcabccdcdcdef\"."
   ]
  },
  {
   "cell_type": "markdown",
   "metadata": {},
   "source": [
    "辅助栈法\n",
    "\n",
    "- 本题难点在于括号内嵌套括号，需要从内向外生成与拼接字符串，这与栈的先入后出特性对应。\n",
    "- 算法流程\n",
    "  1. 构建辅助栈stack, 遍历字符串s中每个字符c；\n",
    "    - 当c为数字时，将数字字符转化为数字multi，用于后续倍数计算；\n",
    "    - 当c为字母时，在res尾部添加c；\n",
    "    - 当c为[时，将当前multi和res入栈，并分别置空置 0：\n",
    "      - 记录此[前的临时结果res至栈，用于发现对应]后的拼接操作；\n",
    "      - 记录此[前的倍数multi至栈，用于发现对应]后，获取multi × [...]字符串。\n",
    "      - 进入到新[后，res和multi重新记录。\n",
    "    - 当c为]时，stack出栈，拼接字符串res = last_res + cur_multi * res，其中:\n",
    "      - last_res是上个[到当前[的字符串，例如\"3[a2[c]]\"中的a；\n",
    "      - cur_multi是当前[到]内字符串的重复倍数，例如\"3[a2[c]]\"中的2。\n",
    "  2. 返回字符串res。"
   ]
  },
  {
   "cell_type": "code",
   "execution_count": 4,
   "metadata": {},
   "outputs": [],
   "source": [
    "class Solution(object):\n",
    "    def decodeString(self, s):\n",
    "        \"\"\"\n",
    "        :type s: str\n",
    "        :rtype: str\n",
    "        \"\"\"\n",
    "        stack = []\n",
    "        multi = 0\n",
    "        res = ''\n",
    "        \n",
    "        for c in s:\n",
    "            if c.isdigit():\n",
    "                multi = int(c) + multi * 10\n",
    "            if c.isalpha():\n",
    "                res += c\n",
    "            if c == '[':\n",
    "                stack.append([res, multi])\n",
    "                multi = 0\n",
    "                res = ''\n",
    "            if c == ']':\n",
    "                last_res, cur_multi = stack.pop()\n",
    "                res = last_res + cur_multi * res\n",
    "        return res"
   ]
  },
  {
   "cell_type": "markdown",
   "metadata": {},
   "source": [
    "## 347. 前 K 个高频元素（中等）TopK问题 最小堆\n",
    "\n",
    "\n",
    "给定一个非空的整数数组，返回其中出现频率前 k 高的元素。\n",
    "\n",
    "示例1:\n",
    "> 输入: nums = [1,1,1,2,2,3], k = 2  \n",
    "输出: [1,2]\n",
    "\n",
    "示例2:\n",
    "> 输入: nums = [1], k = 1  \n",
    "输出: [1]\n",
    "\n",
    "说明\n",
    "1. 你可以假设给定的 k 总是合理的，且 1 ≤ k ≤ 数组中不相同的元素的个数。\n",
    "2. 你的算法的时间复杂度必须优于 O(n log n) , n 是数组的大小。"
   ]
  },
  {
   "cell_type": "markdown",
   "metadata": {},
   "source": [
    "建立容量为k的最小堆保存当前前k个大的元素，每次push维护堆容量，最后pop后逆序输出"
   ]
  },
  {
   "cell_type": "code",
   "execution_count": 5,
   "metadata": {},
   "outputs": [],
   "source": [
    "class Solution(object):\n",
    "    def topKFrequent(self, nums, k):\n",
    "        \"\"\"\n",
    "        :type nums: List[int]\n",
    "        :type k: int\n",
    "        :rtype: List[int]\n",
    "        \"\"\"\n",
    "        freq = {}\n",
    "        \n",
    "        for num in nums:\n",
    "            if num in freq:\n",
    "                freq[num] += 1\n",
    "            else:\n",
    "                freq[num] = 1\n",
    "        \n",
    "        import heapq\n",
    "        heap = []\n",
    "        \n",
    "        for num in freq.keys():\n",
    "            if len(heap) < k:\n",
    "                heapq.heappush(heap, (freq[num], num))\n",
    "            else:\n",
    "                 heapq.heappushpop(heap, (freq[num], num))\n",
    "            \n",
    "        result = []\n",
    "        for i in range(k):\n",
    "            result.append(heapq.heappop(heap)[1])\n",
    "            \n",
    "        return result[::-1]"
   ]
  },
  {
   "cell_type": "markdown",
   "metadata": {},
   "source": [
    "## 338. 比特位计数（中等）\n",
    "\n",
    "给定一个非负整数 num。对于 0 ≤ i ≤ num 范围中的每个数字 i ，计算其二进制数中的 1 的数目并将它们作为数组返回。\n",
    "\n",
    "示例1:\n",
    "> 输入: 2  \n",
    "输出: [0,1,1]\n",
    "\n",
    "示例2:\n",
    ">输入: 5  \n",
    "输出: [0,1,1,2,1,2]\n",
    "\n",
    "进阶:\n",
    "给出时间复杂度为O(n*sizeof(integer))的解答非常容易。但你可以在线性时间O(n)内用一趟扫描做到吗？  \n",
    "要求算法的空间复杂度为O(n)。  \n",
    "你能进一步完善解法吗？要求在C++或任何其他语言中不使用任何内置函数（如 C++ 中的 __builtin_popcount）来执行此操作。"
   ]
  },
  {
   "cell_type": "markdown",
   "metadata": {},
   "source": [
    "动态规划 + 最高有效位\n",
    "\n",
    "假设有一个整数：\n",
    "\n",
    "$$x=(1001011101)_2=(605)_{10}$$\n",
    "\n",
    "我们已经计算了从0到x-1的所有结果\n",
    "\n",
    "$$x^{'}=(1011101)_2=(93)_{10}$$与x只有一位之差\n",
    "\n",
    "总之，对于pop count P(x)，我们有以下的状态转移函数：\n",
    "\n",
    "$$P(x+b)=P(x)+1, b=2^{m}>x$$"
   ]
  },
  {
   "cell_type": "code",
   "execution_count": 12,
   "metadata": {},
   "outputs": [],
   "source": [
    "class Solution(object):\n",
    "    def countBits(self, num):\n",
    "        \"\"\"\n",
    "        :type num: int\n",
    "        :rtype: List[int]\n",
    "        \"\"\"\n",
    "        result = [0] * (num + 1)\n",
    "        b = 1\n",
    "        i = 0\n",
    "        while b <= num:\n",
    "            while i < b and i + b <= num:\n",
    "                result[i+b] = result[i] + 1\n",
    "                i += 1\n",
    "            i = 0\n",
    "            b <<= 1\n",
    "        return result"
   ]
  },
  {
   "cell_type": "code",
   "execution_count": null,
   "metadata": {},
   "outputs": [],
   "source": []
  }
 ],
 "metadata": {
  "kernelspec": {
   "display_name": "Python 3",
   "language": "python",
   "name": "python3"
  },
  "language_info": {
   "codemirror_mode": {
    "name": "ipython",
    "version": 3
   },
   "file_extension": ".py",
   "mimetype": "text/x-python",
   "name": "python",
   "nbconvert_exporter": "python",
   "pygments_lexer": "ipython3",
   "version": "3.7.3"
  }
 },
 "nbformat": 4,
 "nbformat_minor": 2
}
