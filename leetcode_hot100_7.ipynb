{
 "cells": [
  {
   "cell_type": "markdown",
   "metadata": {},
   "source": [
    "## 33. 搜索旋转排序数组（中等）二分法\n",
    "\n",
    "假设按照升序排序的数组在预先未知的某个点上进行了旋转。\n",
    "\n",
    "( 例如，数组 [0,1,2,4,5,6,7] 可能变为 [4,5,6,7,0,1,2] )。\n",
    "\n",
    "搜索一个给定的目标值，如果数组中存在这个目标值，则返回它的索引，否则返回 -1 。\n",
    "\n",
    "你可以假设数组中不存在重复的元素。\n",
    "\n",
    "你的算法时间复杂度必须是 O(log n) 级别。\n",
    "\n",
    "示例 1:\n",
    "\n",
    "    输入: nums = [4,5,6,7,0,1,2], target = 0\n",
    "    输出: 4\n",
    "示例 2:\n",
    "\n",
    "    输入: nums = [4,5,6,7,0,1,2], target = 3\n",
    "    输出: -1"
   ]
  },
  {
   "cell_type": "code",
   "execution_count": 1,
   "metadata": {},
   "outputs": [],
   "source": [
    "class Solution(object):\n",
    "    def search(self, nums, target):\n",
    "        \"\"\"\n",
    "        :type nums: List[int]\n",
    "        :type target: int\n",
    "        :rtype: int\n",
    "        \"\"\"\n",
    "        left = 0\n",
    "        right = len(nums) - 1\n",
    "\n",
    "        while left < right:\n",
    "            mid = (left + right) // 2\n",
    "            \n",
    "            if nums[0] <= nums[mid] and nums[0] <= target <= nums[mid]:\n",
    "                right = mid\n",
    "            elif nums[0] > nums[mid] and nums[0] > nums[mid] >= target:\n",
    "                right = mid\n",
    "            elif nums[0] > nums[mid] and target >= nums[0] > nums[mid]:\n",
    "                right = mid\n",
    "            else:\n",
    "                left = mid + 1\n",
    "        \n",
    "        return left if left == right and nums[left] == target else -1"
   ]
  },
  {
   "cell_type": "markdown",
   "metadata": {},
   "source": [
    "## 15. 三数之和（中等）\n",
    "\n",
    "给定一个包含 n 个整数的数组 nums，判断 nums 中是否存在三个元素 a，b，c ，使得 a + b + c = 0 ？找出所有满足条件且不重复的三元组。\n",
    "\n",
    "注意：答案中不可以包含重复的三元组。\n",
    "\n",
    "    例如, 给定数组 nums = [-1, 0, 1, 2, -1, -4]，\n",
    "\n",
    "    满足要求的三元组集合为：\n",
    "    [\n",
    "      [-1, 0, 1],\n",
    "      [-1, -1, 2]\n",
    "    ]"
   ]
  },
  {
   "cell_type": "code",
   "execution_count": 4,
   "metadata": {},
   "outputs": [],
   "source": [
    "class Solution(object):\n",
    "    def threeSum(self, nums):\n",
    "        \"\"\"\n",
    "        :type nums: List[int]\n",
    "        :rtype: List[List[int]]\n",
    "        \"\"\"\n",
    "        nums.sort()\n",
    "        n = len(nums)\n",
    "        result = []\n",
    "        for i in range(n):\n",
    "            if i > 0 and nums[i] == nums[i-1]:\n",
    "                continue\n",
    "            left = i + 1\n",
    "            right = n - 1\n",
    "            while left < right:\n",
    "                cur_sum = nums[left] + nums[right] + nums[i]\n",
    "                if cur_sum == 0:\n",
    "                    result.append([nums[left], nums[right], nums[i]])\n",
    "                    while left < right and nums[left] == nums[left+1]:\n",
    "                        left += 1\n",
    "                    while left < right and nums[right] == nums[right-1]:\n",
    "                        right -= 1\n",
    "                    left += 1\n",
    "                    right -= 1\n",
    "                elif cur_sum > 0:\n",
    "                    right -= 1\n",
    "                else:\n",
    "                    left += 1\n",
    "        return result"
   ]
  },
  {
   "cell_type": "code",
   "execution_count": null,
   "metadata": {},
   "outputs": [],
   "source": []
  }
 ],
 "metadata": {
  "kernelspec": {
   "display_name": "Python 3",
   "language": "python",
   "name": "python3"
  },
  "language_info": {
   "codemirror_mode": {
    "name": "ipython",
    "version": 3
   },
   "file_extension": ".py",
   "mimetype": "text/x-python",
   "name": "python",
   "nbconvert_exporter": "python",
   "pygments_lexer": "ipython3",
   "version": "3.7.3"
  }
 },
 "nbformat": 4,
 "nbformat_minor": 2
}
